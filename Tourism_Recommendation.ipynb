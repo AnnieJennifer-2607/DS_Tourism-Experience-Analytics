{
 "cells": [
  {
   "cell_type": "code",
   "execution_count": 1,
   "id": "235a52c0",
   "metadata": {},
   "outputs": [],
   "source": [
    "import numpy as np\n",
    "import pandas as pd\n",
    "from sklearn.decomposition import TruncatedSVD\n",
    "from sklearn.preprocessing import MinMaxScaler\n",
    "from sklearn.neighbors import NearestNeighbors\n",
    "from sklearn.metrics import mean_squared_error, mean_absolute_error, r2_score"
   ]
  },
  {
   "cell_type": "code",
   "execution_count": 2,
   "id": "319c0969",
   "metadata": {},
   "outputs": [],
   "source": [
    "# LOADING THE TOURISM DATASET FROM A CSV FILE INTO A DATAFRAME  \n",
    "Tourism_df = pd.read_csv('Dataset_Tourism_final.csv')"
   ]
  },
  {
   "cell_type": "code",
   "execution_count": null,
   "id": "b63afe59",
   "metadata": {},
   "outputs": [
    {
     "data": {
      "text/html": [
       "<div>\n",
       "<style scoped>\n",
       "    .dataframe tbody tr th:only-of-type {\n",
       "        vertical-align: middle;\n",
       "    }\n",
       "\n",
       "    .dataframe tbody tr th {\n",
       "        vertical-align: top;\n",
       "    }\n",
       "\n",
       "    .dataframe thead th {\n",
       "        text-align: right;\n",
       "    }\n",
       "</style>\n",
       "<table border=\"1\" class=\"dataframe\">\n",
       "  <thead>\n",
       "    <tr style=\"text-align: right;\">\n",
       "      <th></th>\n",
       "      <th>TransactionId</th>\n",
       "      <th>UserId</th>\n",
       "      <th>VisitYear</th>\n",
       "      <th>VisitMonth</th>\n",
       "      <th>VisitMode</th>\n",
       "      <th>AttractionId</th>\n",
       "      <th>Rating</th>\n",
       "      <th>ContinentId</th>\n",
       "      <th>RegionId</th>\n",
       "      <th>CountryId</th>\n",
       "      <th>CityId</th>\n",
       "      <th>Continent</th>\n",
       "      <th>Region</th>\n",
       "      <th>Country</th>\n",
       "      <th>CityName</th>\n",
       "      <th>Attraction</th>\n",
       "      <th>AttractionAddress</th>\n",
       "      <th>AttractionTypeId</th>\n",
       "      <th>AttractionType</th>\n",
       "      <th>VisitModeName</th>\n",
       "    </tr>\n",
       "  </thead>\n",
       "  <tbody>\n",
       "    <tr>\n",
       "      <th>0</th>\n",
       "      <td>8</td>\n",
       "      <td>7567</td>\n",
       "      <td>2022</td>\n",
       "      <td>10</td>\n",
       "      <td>4</td>\n",
       "      <td>640</td>\n",
       "      <td>5</td>\n",
       "      <td>2</td>\n",
       "      <td>8</td>\n",
       "      <td>48</td>\n",
       "      <td>464.0</td>\n",
       "      <td>America</td>\n",
       "      <td>Northern America</td>\n",
       "      <td>Canada</td>\n",
       "      <td>Ontario</td>\n",
       "      <td>Sacred Monkey Forest Sanctuary</td>\n",
       "      <td>Jl. Monkey Forest, Ubud 80571 Indonesia</td>\n",
       "      <td>63</td>\n",
       "      <td>Nature &amp; Wildlife Areas</td>\n",
       "      <td>Friends</td>\n",
       "    </tr>\n",
       "    <tr>\n",
       "      <th>1</th>\n",
       "      <td>10</td>\n",
       "      <td>31019</td>\n",
       "      <td>2022</td>\n",
       "      <td>10</td>\n",
       "      <td>3</td>\n",
       "      <td>640</td>\n",
       "      <td>3</td>\n",
       "      <td>5</td>\n",
       "      <td>17</td>\n",
       "      <td>135</td>\n",
       "      <td>583.0</td>\n",
       "      <td>Europe</td>\n",
       "      <td>Central Europe</td>\n",
       "      <td>Switzerland</td>\n",
       "      <td>Zurich</td>\n",
       "      <td>Sacred Monkey Forest Sanctuary</td>\n",
       "      <td>Jl. Monkey Forest, Ubud 80571 Indonesia</td>\n",
       "      <td>63</td>\n",
       "      <td>Nature &amp; Wildlife Areas</td>\n",
       "      <td>Family</td>\n",
       "    </tr>\n",
       "    <tr>\n",
       "      <th>2</th>\n",
       "      <td>23</td>\n",
       "      <td>20977</td>\n",
       "      <td>2022</td>\n",
       "      <td>10</td>\n",
       "      <td>4</td>\n",
       "      <td>640</td>\n",
       "      <td>5</td>\n",
       "      <td>5</td>\n",
       "      <td>21</td>\n",
       "      <td>163</td>\n",
       "      <td>8258.0</td>\n",
       "      <td>Europe</td>\n",
       "      <td>Western Europe</td>\n",
       "      <td>United Kingdom</td>\n",
       "      <td>Edinburgh</td>\n",
       "      <td>Sacred Monkey Forest Sanctuary</td>\n",
       "      <td>Jl. Monkey Forest, Ubud 80571 Indonesia</td>\n",
       "      <td>63</td>\n",
       "      <td>Nature &amp; Wildlife Areas</td>\n",
       "      <td>Friends</td>\n",
       "    </tr>\n",
       "    <tr>\n",
       "      <th>3</th>\n",
       "      <td>28</td>\n",
       "      <td>18655</td>\n",
       "      <td>2022</td>\n",
       "      <td>9</td>\n",
       "      <td>2</td>\n",
       "      <td>640</td>\n",
       "      <td>3</td>\n",
       "      <td>1</td>\n",
       "      <td>4</td>\n",
       "      <td>22</td>\n",
       "      <td>114.0</td>\n",
       "      <td>Africa</td>\n",
       "      <td>Southern Africa</td>\n",
       "      <td>South Africa</td>\n",
       "      <td>Durban</td>\n",
       "      <td>Sacred Monkey Forest Sanctuary</td>\n",
       "      <td>Jl. Monkey Forest, Ubud 80571 Indonesia</td>\n",
       "      <td>63</td>\n",
       "      <td>Nature &amp; Wildlife Areas</td>\n",
       "      <td>Couples</td>\n",
       "    </tr>\n",
       "    <tr>\n",
       "      <th>4</th>\n",
       "      <td>44</td>\n",
       "      <td>2307</td>\n",
       "      <td>2022</td>\n",
       "      <td>9</td>\n",
       "      <td>2</td>\n",
       "      <td>640</td>\n",
       "      <td>4</td>\n",
       "      <td>4</td>\n",
       "      <td>15</td>\n",
       "      <td>109</td>\n",
       "      <td>4303.0</td>\n",
       "      <td>Australia &amp; Oceania</td>\n",
       "      <td>Australia</td>\n",
       "      <td>Australia</td>\n",
       "      <td>Gold Coast</td>\n",
       "      <td>Sacred Monkey Forest Sanctuary</td>\n",
       "      <td>Jl. Monkey Forest, Ubud 80571 Indonesia</td>\n",
       "      <td>63</td>\n",
       "      <td>Nature &amp; Wildlife Areas</td>\n",
       "      <td>Couples</td>\n",
       "    </tr>\n",
       "  </tbody>\n",
       "</table>\n",
       "</div>"
      ],
      "text/plain": [
       "   TransactionId  UserId  VisitYear  VisitMonth  VisitMode  AttractionId  \\\n",
       "0              8    7567       2022          10          4           640   \n",
       "1             10   31019       2022          10          3           640   \n",
       "2             23   20977       2022          10          4           640   \n",
       "3             28   18655       2022           9          2           640   \n",
       "4             44    2307       2022           9          2           640   \n",
       "\n",
       "   Rating  ContinentId  RegionId  CountryId  CityId            Continent  \\\n",
       "0       5            2         8         48   464.0              America   \n",
       "1       3            5        17        135   583.0               Europe   \n",
       "2       5            5        21        163  8258.0               Europe   \n",
       "3       3            1         4         22   114.0               Africa   \n",
       "4       4            4        15        109  4303.0  Australia & Oceania   \n",
       "\n",
       "             Region         Country    CityName  \\\n",
       "0  Northern America          Canada     Ontario   \n",
       "1    Central Europe     Switzerland      Zurich   \n",
       "2    Western Europe  United Kingdom   Edinburgh   \n",
       "3   Southern Africa    South Africa      Durban   \n",
       "4         Australia       Australia  Gold Coast   \n",
       "\n",
       "                       Attraction                        AttractionAddress  \\\n",
       "0  Sacred Monkey Forest Sanctuary  Jl. Monkey Forest, Ubud 80571 Indonesia   \n",
       "1  Sacred Monkey Forest Sanctuary  Jl. Monkey Forest, Ubud 80571 Indonesia   \n",
       "2  Sacred Monkey Forest Sanctuary  Jl. Monkey Forest, Ubud 80571 Indonesia   \n",
       "3  Sacred Monkey Forest Sanctuary  Jl. Monkey Forest, Ubud 80571 Indonesia   \n",
       "4  Sacred Monkey Forest Sanctuary  Jl. Monkey Forest, Ubud 80571 Indonesia   \n",
       "\n",
       "   AttractionTypeId           AttractionType VisitModeName  \n",
       "0                63  Nature & Wildlife Areas       Friends  \n",
       "1                63  Nature & Wildlife Areas        Family  \n",
       "2                63  Nature & Wildlife Areas       Friends  \n",
       "3                63  Nature & Wildlife Areas       Couples  \n",
       "4                63  Nature & Wildlife Areas       Couples  "
      ]
     },
     "execution_count": 3,
     "metadata": {},
     "output_type": "execute_result"
    }
   ],
   "source": [
    "Tourism_df.head()"
   ]
  },
  {
   "cell_type": "code",
   "execution_count": 4,
   "id": "3db7e8ff",
   "metadata": {},
   "outputs": [
    {
     "data": {
      "text/plain": [
       "0"
      ]
     },
     "execution_count": 4,
     "metadata": {},
     "output_type": "execute_result"
    }
   ],
   "source": [
    "Tourism_df.duplicated().sum()"
   ]
  },
  {
   "cell_type": "code",
   "execution_count": 5,
   "id": "ad74f6fa",
   "metadata": {},
   "outputs": [
    {
     "data": {
      "text/plain": [
       "TransactionId        0\n",
       "UserId               0\n",
       "VisitYear            0\n",
       "VisitMonth           0\n",
       "VisitMode            0\n",
       "AttractionId         0\n",
       "Rating               0\n",
       "ContinentId          0\n",
       "RegionId             0\n",
       "CountryId            0\n",
       "CityId               8\n",
       "Continent            0\n",
       "Region               0\n",
       "Country              0\n",
       "CityName             0\n",
       "Attraction           0\n",
       "AttractionAddress    0\n",
       "AttractionTypeId     0\n",
       "AttractionType       0\n",
       "VisitModeName        0\n",
       "dtype: int64"
      ]
     },
     "execution_count": 5,
     "metadata": {},
     "output_type": "execute_result"
    }
   ],
   "source": [
    "Tourism_df.isnull().sum()"
   ]
  },
  {
   "cell_type": "code",
   "execution_count": 6,
   "id": "3479d117",
   "metadata": {},
   "outputs": [
    {
     "data": {
      "text/plain": [
       "(52930, 20)"
      ]
     },
     "execution_count": 6,
     "metadata": {},
     "output_type": "execute_result"
    }
   ],
   "source": [
    "Tourism_df.shape"
   ]
  },
  {
   "cell_type": "code",
   "execution_count": 7,
   "id": "63d617f4",
   "metadata": {},
   "outputs": [],
   "source": [
    "Tourism_df.dropna(inplace=True)"
   ]
  },
  {
   "cell_type": "code",
   "execution_count": 8,
   "id": "6b10fc47",
   "metadata": {},
   "outputs": [
    {
     "data": {
      "text/plain": [
       "(52922, 20)"
      ]
     },
     "execution_count": 8,
     "metadata": {},
     "output_type": "execute_result"
    }
   ],
   "source": [
    "Tourism_df.shape"
   ]
  },
  {
   "cell_type": "code",
   "execution_count": 9,
   "id": "fb7ecd33",
   "metadata": {},
   "outputs": [],
   "source": [
    "# Normalize Ratings\n",
    "Tourism_df[\"Rating\"] = MinMaxScaler().fit_transform(Tourism_df[[\"Rating\"]])\n",
    "\n",
    "# Create User-Attraction Matrix\n",
    "user_attraction_matrix = Tourism_df.pivot_table(index=\"UserId\", columns=\"AttractionId\", values=\"Rating\", fill_value=0)"
   ]
  },
  {
   "cell_type": "code",
   "execution_count": 10,
   "id": "7e090477",
   "metadata": {},
   "outputs": [
    {
     "data": {
      "text/html": [
       "<style>#sk-container-id-1 {color: black;}#sk-container-id-1 pre{padding: 0;}#sk-container-id-1 div.sk-toggleable {background-color: white;}#sk-container-id-1 label.sk-toggleable__label {cursor: pointer;display: block;width: 100%;margin-bottom: 0;padding: 0.3em;box-sizing: border-box;text-align: center;}#sk-container-id-1 label.sk-toggleable__label-arrow:before {content: \"▸\";float: left;margin-right: 0.25em;color: #696969;}#sk-container-id-1 label.sk-toggleable__label-arrow:hover:before {color: black;}#sk-container-id-1 div.sk-estimator:hover label.sk-toggleable__label-arrow:before {color: black;}#sk-container-id-1 div.sk-toggleable__content {max-height: 0;max-width: 0;overflow: hidden;text-align: left;background-color: #f0f8ff;}#sk-container-id-1 div.sk-toggleable__content pre {margin: 0.2em;color: black;border-radius: 0.25em;background-color: #f0f8ff;}#sk-container-id-1 input.sk-toggleable__control:checked~div.sk-toggleable__content {max-height: 200px;max-width: 100%;overflow: auto;}#sk-container-id-1 input.sk-toggleable__control:checked~label.sk-toggleable__label-arrow:before {content: \"▾\";}#sk-container-id-1 div.sk-estimator input.sk-toggleable__control:checked~label.sk-toggleable__label {background-color: #d4ebff;}#sk-container-id-1 div.sk-label input.sk-toggleable__control:checked~label.sk-toggleable__label {background-color: #d4ebff;}#sk-container-id-1 input.sk-hidden--visually {border: 0;clip: rect(1px 1px 1px 1px);clip: rect(1px, 1px, 1px, 1px);height: 1px;margin: -1px;overflow: hidden;padding: 0;position: absolute;width: 1px;}#sk-container-id-1 div.sk-estimator {font-family: monospace;background-color: #f0f8ff;border: 1px dotted black;border-radius: 0.25em;box-sizing: border-box;margin-bottom: 0.5em;}#sk-container-id-1 div.sk-estimator:hover {background-color: #d4ebff;}#sk-container-id-1 div.sk-parallel-item::after {content: \"\";width: 100%;border-bottom: 1px solid gray;flex-grow: 1;}#sk-container-id-1 div.sk-label:hover label.sk-toggleable__label {background-color: #d4ebff;}#sk-container-id-1 div.sk-serial::before {content: \"\";position: absolute;border-left: 1px solid gray;box-sizing: border-box;top: 0;bottom: 0;left: 50%;z-index: 0;}#sk-container-id-1 div.sk-serial {display: flex;flex-direction: column;align-items: center;background-color: white;padding-right: 0.2em;padding-left: 0.2em;position: relative;}#sk-container-id-1 div.sk-item {position: relative;z-index: 1;}#sk-container-id-1 div.sk-parallel {display: flex;align-items: stretch;justify-content: center;background-color: white;position: relative;}#sk-container-id-1 div.sk-item::before, #sk-container-id-1 div.sk-parallel-item::before {content: \"\";position: absolute;border-left: 1px solid gray;box-sizing: border-box;top: 0;bottom: 0;left: 50%;z-index: -1;}#sk-container-id-1 div.sk-parallel-item {display: flex;flex-direction: column;z-index: 1;position: relative;background-color: white;}#sk-container-id-1 div.sk-parallel-item:first-child::after {align-self: flex-end;width: 50%;}#sk-container-id-1 div.sk-parallel-item:last-child::after {align-self: flex-start;width: 50%;}#sk-container-id-1 div.sk-parallel-item:only-child::after {width: 0;}#sk-container-id-1 div.sk-dashed-wrapped {border: 1px dashed gray;margin: 0 0.4em 0.5em 0.4em;box-sizing: border-box;padding-bottom: 0.4em;background-color: white;}#sk-container-id-1 div.sk-label label {font-family: monospace;font-weight: bold;display: inline-block;line-height: 1.2em;}#sk-container-id-1 div.sk-label-container {text-align: center;}#sk-container-id-1 div.sk-container {/* jupyter's `normalize.less` sets `[hidden] { display: none; }` but bootstrap.min.css set `[hidden] { display: none !important; }` so we also need the `!important` here to be able to override the default hidden behavior on the sphinx rendered scikit-learn.org. See: https://github.com/scikit-learn/scikit-learn/issues/21755 */display: inline-block !important;position: relative;}#sk-container-id-1 div.sk-text-repr-fallback {display: none;}</style><div id=\"sk-container-id-1\" class=\"sk-top-container\"><div class=\"sk-text-repr-fallback\"><pre>NearestNeighbors(metric=&#x27;cosine&#x27;, n_neighbors=7)</pre><b>In a Jupyter environment, please rerun this cell to show the HTML representation or trust the notebook. <br />On GitHub, the HTML representation is unable to render, please try loading this page with nbviewer.org.</b></div><div class=\"sk-container\" hidden><div class=\"sk-item\"><div class=\"sk-estimator sk-toggleable\"><input class=\"sk-toggleable__control sk-hidden--visually\" id=\"sk-estimator-id-1\" type=\"checkbox\" checked><label for=\"sk-estimator-id-1\" class=\"sk-toggleable__label sk-toggleable__label-arrow\">NearestNeighbors</label><div class=\"sk-toggleable__content\"><pre>NearestNeighbors(metric=&#x27;cosine&#x27;, n_neighbors=7)</pre></div></div></div></div></div>"
      ],
      "text/plain": [
       "NearestNeighbors(metric='cosine', n_neighbors=7)"
      ]
     },
     "execution_count": 10,
     "metadata": {},
     "output_type": "execute_result"
    }
   ],
   "source": [
    "# Apply Truncated SVD for Dimensionality Reduction\n",
    "n_components = min(25, user_attraction_matrix.shape[1])  # Increased components for better reconstruction\n",
    "svd = TruncatedSVD(n_components=n_components, random_state=42)\n",
    "user_attraction_matrix_reduced = svd.fit_transform(user_attraction_matrix)\n",
    "\n",
    "# Train KNN Model with Cosine Similarity\n",
    "knn_model = NearestNeighbors(n_neighbors=7, metric='cosine', algorithm='auto')  # Increased neighbors for better diversity\n",
    "knn_model.fit(user_attraction_matrix_reduced)"
   ]
  },
  {
   "cell_type": "code",
   "execution_count": 11,
   "id": "9ebf0a56",
   "metadata": {},
   "outputs": [],
   "source": [
    "# Function to Recommend Attractions\n",
    "def recommend_attractions(user_id, num_recommendations=5):\n",
    "    if user_id not in user_attraction_matrix.index:\n",
    "        return \"User ID not found! Try with a different ID.\"\n",
    "\n",
    "    user_idx = user_attraction_matrix.index.get_loc(user_id)\n",
    "    distances, indices = knn_model.kneighbors([user_attraction_matrix_reduced[user_idx]], n_neighbors=7)\n",
    "    \n",
    "    similar_users = user_attraction_matrix.index[indices.flatten()[1:]]  # Exclude self\n",
    "\n",
    "    user_ratings = user_attraction_matrix.loc[user_id]\n",
    "    unseen_attractions = user_ratings[user_ratings == 0].index  # Attractions user has not rated\n",
    "\n",
    "    attraction_scores = {}\n",
    "    for sim_user, dist in zip(similar_users, distances.flatten()[1:]):  # Weighted Similarity\n",
    "        for attraction in unseen_attractions:\n",
    "            attraction_scores[attraction] = attraction_scores.get(attraction, 0) + (\n",
    "                user_attraction_matrix.loc[sim_user, attraction] * (1 - dist)\n",
    "            )\n",
    "\n",
    "    recommended_attractions = sorted(attraction_scores, key=attraction_scores.get, reverse=True)[:num_recommendations]\n",
    "    \n",
    "    return recommended_attractions if recommended_attractions else \"No new recommendations found.\""
   ]
  },
  {
   "cell_type": "code",
   "execution_count": 12,
   "id": "29ac8176",
   "metadata": {},
   "outputs": [],
   "source": [
    "# Convert Attraction ID to Names\n",
    "def map_attractions(recommended_ids):\n",
    "    attraction_mapping = dict(zip(Tourism_df[\"AttractionId\"], Tourism_df[\"Attraction\"]))\n",
    "    return [attraction_mapping[att_id] for att_id in recommended_ids if att_id in attraction_mapping]"
   ]
  },
  {
   "cell_type": "code",
   "execution_count": 13,
   "id": "f051aeb2",
   "metadata": {},
   "outputs": [
    {
     "name": "stdout",
     "output_type": "stream",
     "text": [
      "Recommended Attractions for User 16: ['Tanah Lot Temple', 'Tegenungan Waterfall', 'Sanur Beach', 'Kuta Beach - Bali', 'Seminyak Beach']\n"
     ]
    }
   ],
   "source": [
    "# Get Recommendations\n",
    "user_id = 16\n",
    "recommended_ids = recommend_attractions(user_id)\n",
    "recommended_names = map_attractions(recommended_ids)\n",
    "\n",
    "print(f\"Recommended Attractions for User {user_id}: {recommended_names}\")"
   ]
  },
  {
   "cell_type": "code",
   "execution_count": 14,
   "id": "0a75f4da",
   "metadata": {},
   "outputs": [
    {
     "name": "stdout",
     "output_type": "stream",
     "text": [
      "Reconstruction RMSE: 0.0107\n",
      "Reconstruction MSE: 0.0001\n",
      "Reconstruction MAE: 0.0004\n",
      "Reconstruction R² Score: 0.8490\n"
     ]
    }
   ],
   "source": [
    "# Evaluate SVD Reconstruction Quality\n",
    "reconstructed_matrix = svd.inverse_transform(user_attraction_matrix_reduced)\n",
    "original = user_attraction_matrix.to_numpy()\n",
    "reconstructed = reconstructed_matrix\n",
    "\n",
    "rmse = np.sqrt(mean_squared_error(original, reconstructed))\n",
    "mse = mean_squared_error(original, reconstructed)\n",
    "mae = mean_absolute_error(original, reconstructed)\n",
    "r2 = r2_score(original, reconstructed)\n",
    "\n",
    "print(f\"Reconstruction RMSE: {rmse:.4f}\")\n",
    "print(f\"Reconstruction MSE: {mse:.4f}\")\n",
    "print(f\"Reconstruction MAE: {mae:.4f}\")\n",
    "print(f\"Reconstruction R² Score: {r2:.4f}\")"
   ]
  },
  {
   "cell_type": "code",
   "execution_count": 15,
   "id": "791020d8",
   "metadata": {},
   "outputs": [
    {
     "name": "stdout",
     "output_type": "stream",
     "text": [
      "All models has been saved\n"
     ]
    }
   ],
   "source": [
    "import joblib\n",
    "joblib.dump(svd,\"svd(recommend).plk\")\n",
    "joblib.dump(user_attraction_matrix_reduced,'user attraction matrix reduce(recommend).plk')\n",
    "joblib.dump(knn_model,'KNN(recommend).plk')\n",
    "joblib.dump(user_attraction_matrix,'use attraction matrix(recommend).plk')\n",
    "print('All models has been saved')"
   ]
  }
 ],
 "metadata": {
  "kernelspec": {
   "display_name": "base",
   "language": "python",
   "name": "python3"
  },
  "language_info": {
   "codemirror_mode": {
    "name": "ipython",
    "version": 3
   },
   "file_extension": ".py",
   "mimetype": "text/x-python",
   "name": "python",
   "nbconvert_exporter": "python",
   "pygments_lexer": "ipython3",
   "version": "3.12.7"
  }
 },
 "nbformat": 4,
 "nbformat_minor": 5
}
