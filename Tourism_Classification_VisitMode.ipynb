{
 "cells": [
  {
   "cell_type": "code",
   "execution_count": null,
   "id": "e0cf9c07",
   "metadata": {},
   "outputs": [],
   "source": [
    "import pandas as pd\n",
    "import numpy as nu\n",
    "from sklearn.model_selection import train_test_split\n",
    "from sklearn.tree import DecisionTreeClassifier\n",
    "from sklearn.ensemble import RandomForestClassifier\n",
    "import xgboost\n",
    "from xgboost import XGBClassifier\n",
    "from sklearn.metrics import accuracy_score,precision_score,recall_score,f1_score"
   ]
  },
  {
   "cell_type": "code",
   "execution_count": null,
   "id": "4bf51f42",
   "metadata": {},
   "outputs": [],
   "source": [
    "Tourism_df = pd.read_csv('Dataset_Tourism_final.csv')"
   ]
  },
  {
   "cell_type": "code",
   "execution_count": null,
   "id": "514b3e25",
   "metadata": {},
   "outputs": [],
   "source": [
    "Tourism_df.head()"
   ]
  },
  {
   "cell_type": "code",
   "execution_count": null,
   "id": "a6dd4e14",
   "metadata": {},
   "outputs": [],
   "source": [
    "Tourism_df.isnull().sum()"
   ]
  },
  {
   "cell_type": "code",
   "execution_count": null,
   "id": "c8d288b3",
   "metadata": {},
   "outputs": [],
   "source": [
    "Tourism_df.dropna(inplace=True)"
   ]
  },
  {
   "cell_type": "code",
   "execution_count": null,
   "id": "4d24c6de",
   "metadata": {},
   "outputs": [],
   "source": [
    "Tourism_df.isnull().sum()"
   ]
  },
  {
   "cell_type": "code",
   "execution_count": null,
   "id": "ba68bae3",
   "metadata": {},
   "outputs": [],
   "source": [
    "Tourism_df.shape"
   ]
  },
  {
   "cell_type": "code",
   "execution_count": null,
   "id": "5cd09ad7",
   "metadata": {},
   "outputs": [],
   "source": [
    "Tourism_df.nunique()"
   ]
  },
  {
   "cell_type": "code",
   "execution_count": null,
   "id": "80123493",
   "metadata": {},
   "outputs": [],
   "source": [
    "Tourism_df.info()"
   ]
  },
  {
   "cell_type": "code",
   "execution_count": null,
   "id": "8d962f0d",
   "metadata": {},
   "outputs": [],
   "source": [
    "# IMPORTING SMOTE FOR HANDLING IMBALANCED DATA AND ENCODERS FOR FEATURE TRANSFORMATION  \n",
    "from imblearn.over_sampling import SMOTE\n",
    "from imblearn.combine import SMOTETomek\n",
    "from sklearn.preprocessing import OneHotEncoder, LabelEncoder,StandardScaler\n",
    "from category_encoders import TargetEncoder\n",
    "from sklearn.model_selection import GridSearchCV,RandomizedSearchCV\n",
    "from sklearn.metrics import classification_report,confusion_matrix"
   ]
  },
  {
   "cell_type": "code",
   "execution_count": null,
   "id": "a8cc4d40",
   "metadata": {},
   "outputs": [],
   "source": [
    "Tourism_df.to_csv('Tourism_visitmode.csv', index=False)"
   ]
  },
  {
   "cell_type": "code",
   "execution_count": null,
   "id": "8bbd7550",
   "metadata": {},
   "outputs": [],
   "source": [
    "from sklearn.preprocessing import OneHotEncoder, LabelEncoder\n",
    "from imblearn.over_sampling import SMOTE\n",
    "from category_encoders import TargetEncoder\n",
    "\n",
    "# Feature selection\n",
    "selected_features = [\"VisitYear\", \"VisitMonth\",\n",
    "                     \"ContinentId\", \"CountryId\", \"Country\", \"Attraction\", \"AttractionType\"]\n",
    "\n",
    "X = Tourism_df[selected_features].copy()\n",
    "y = Tourism_df[\"VisitModeName\"]\n"
   ]
  },
  {
   "cell_type": "code",
   "execution_count": null,
   "id": "e3385fd1",
   "metadata": {},
   "outputs": [],
   "source": [
    "from category_encoders import TargetEncoder\n",
    "from sklearn.preprocessing import LabelEncoder, OneHotEncoder\n",
    "import joblib\n",
    "\n",
    "# Label encode target\n",
    "label_encoder = LabelEncoder()\n",
    "y = label_encoder.fit_transform(Tourism_df[\"VisitModeName\"])\n",
    "\n",
    "# Target encode Attraction and Country separately\n",
    "enc_attraction = TargetEncoder()\n",
    "X[\"Attraction\"] = enc_attraction.fit_transform(X[\"Attraction\"], y)\n",
    "\n",
    "enc_country = TargetEncoder()\n",
    "X[\"Country\"] = enc_country.fit_transform(X[\"Country\"], y)\n",
    "\n",
    "# One-hot encode AttractionType\n",
    "categorical_features = [\"AttractionType\"]\n",
    "ohe = OneHotEncoder(handle_unknown=\"ignore\", sparse_output=False)\n",
    "encoded_features = ohe.fit_transform(X[categorical_features])\n",
    "encoded_df = pd.DataFrame(encoded_features, columns=ohe.get_feature_names_out(categorical_features))\n",
    "encoded_df.index = X.index\n",
    "\n",
    "# Drop original and concat encoded\n",
    "X = X.drop(columns=categorical_features)\n",
    "X = pd.concat([X, encoded_df], axis=1)\n",
    "\n",
    "# # SMOTE\n",
    "# smote = SMOTE(random_state=42)\n",
    "# X_smote, y_smote = smote.fit_resample(X, y)\n",
    "\n",
    "# # Combine to final dataset\n",
    "# y_smote = pd.Series(y_smote, name='VisitModeName')\n",
    "# balanced_tourism_data = pd.concat([X_smote, y_smote], axis=1)\n",
    "\n",
    "# # Check distribution\n",
    "# print(\"Before SMOTE:\")\n",
    "# print(pd.Series(y).value_counts())\n",
    "\n",
    "# print(\"\\nAfter SMOTE:\")\n",
    "# print(y_smote.value_counts())\n"
   ]
  },
  {
   "cell_type": "code",
   "execution_count": null,
   "id": "d607f465",
   "metadata": {},
   "outputs": [],
   "source": [
    "final_features = X.columns.tolist()\n",
    "import joblib\n",
    "joblib.dump(final_features, \"feature_columns.pkl\")"
   ]
  },
  {
   "cell_type": "code",
   "execution_count": null,
   "id": "2269ea86",
   "metadata": {},
   "outputs": [],
   "source": [
    "# SMOTE\n",
    "smote = SMOTE(random_state=42)\n",
    "X_smote, y_smote = smote.fit_resample(X, y)\n",
    "\n",
    "# Combine to final dataset\n",
    "y_smote = pd.Series(y_smote, name='VisitModeName')\n",
    "balanced_tourism_data = pd.concat([X_smote, y_smote], axis=1)\n",
    "\n",
    "# Check distribution\n",
    "print(\"Before SMOTE:\")\n",
    "print(pd.Series(y).value_counts())\n",
    "\n",
    "print(\"\\nAfter SMOTE:\")\n",
    "print(y_smote.value_counts())\n"
   ]
  },
  {
   "cell_type": "code",
   "execution_count": null,
   "id": "7ac23e6f",
   "metadata": {},
   "outputs": [],
   "source": [
    "# from sklearn.preprocessing import OneHotEncoder, LabelEncoder\n",
    "# from imblearn.over_sampling import SMOTE\n",
    "# from category_encoders import TargetEncoder\n",
    "\n",
    "# # Feature selection\n",
    "# selected_features = [\"UserId\", \"VisitYear\", \"VisitMonth\", \"AttractionId\", \n",
    "#                      \"ContinentId\", \"RegionId\", \"CountryId\", \"Attraction\", \"AttractionType\"]\n",
    "\n",
    "# X = Tourism_df[selected_features].copy()\n",
    "# y = Tourism_df[\"VisitModeName\"]\n",
    "\n",
    "# # One-Hot Encode only AttractionType\n",
    "# categorical_features = [\"AttractionType\"]\n",
    "\n",
    "# ohe = OneHotEncoder(handle_unknown=\"ignore\", sparse_output=False)\n",
    "# encoded_features = ohe.fit_transform(X[categorical_features])\n",
    "# encoded_df = pd.DataFrame(encoded_features, columns=ohe.get_feature_names_out(categorical_features))\n",
    "# encoded_df.index = X.index\n",
    "\n",
    "# # Label Encoding for target variable (VisitModeName)\n",
    "# label_encoder = LabelEncoder()\n",
    "# y = label_encoder.fit_transform(Tourism_df[\"VisitModeName\"])  # Already numeric\n",
    "\n",
    "# # Target Encode Attraction\n",
    "# target_enc = TargetEncoder()\n",
    "# X[\"Attraction\"] = target_enc.fit_transform(X[\"Attraction\"], y)\n",
    "\n",
    "# # Drop original categorical and add encoded\n",
    "# X = X.drop(columns=categorical_features)\n",
    "# X = pd.concat([X, encoded_df], axis=1)\n",
    "\n",
    "# # SMOTE\n",
    "# smote = SMOTE(random_state=42)\n",
    "# X_smote, y_smote = smote.fit_resample(X, y)\n",
    "\n",
    "# # Combine to final dataset\n",
    "# y_smote = pd.Series(y_smote, name='VisitModeName')\n",
    "# balanced_tourism_data = pd.concat([X_smote, y_smote], axis=1)\n",
    "\n",
    "# # Check distribution\n",
    "# print(\"Before SMOTE:\")\n",
    "# print(pd.Series(y).value_counts())\n",
    "\n",
    "# print(\"\\nAfter SMOTE:\")\n",
    "# print(y_smote.value_counts())\n",
    "\n"
   ]
  },
  {
   "cell_type": "code",
   "execution_count": null,
   "id": "b508db52",
   "metadata": {},
   "outputs": [],
   "source": [
    "# import pandas as pd\n",
    "# import joblib\n",
    "# from category_encoders import TargetEncoder\n",
    "# from sklearn.preprocessing import LabelEncoder\n",
    "\n",
    "# # Load your dataset\n",
    "# Tourism_df = pd.read_csv(\"Tourism_visitmode.csv\")\n",
    "\n",
    "# # Convert target (VisitModeName) to numeric using LabelEncoder\n",
    "# label_encoder = LabelEncoder()\n",
    "# y = label_encoder.fit_transform(Tourism_df[\"VisitModeName\"])\n",
    "\n",
    "# # Save label encoder for prediction decoding later\n",
    "# joblib.dump(label_encoder, \"label_encoder.pkl\")\n",
    "\n",
    "# # ----- Target Encoder for Attraction -----\n",
    "# enc_attraction = TargetEncoder()\n",
    "# enc_attraction.fit(Tourism_df[[\"Attraction\"]], y)\n",
    "# joblib.dump(enc_attraction, \"target_enc_attraction.pkl\")\n",
    "\n",
    "# # ----- Target Encoder for Country -----\n",
    "# enc_country = TargetEncoder()\n",
    "# enc_country.fit(Tourism_df[[\"Country\"]], y)\n",
    "# joblib.dump(enc_country, \"target_enc_country.pkl\")\n"
   ]
  },
  {
   "cell_type": "code",
   "execution_count": null,
   "id": "09be6ba8",
   "metadata": {},
   "outputs": [],
   "source": [
    "#  Step 4: Train-Test Split\n",
    "X_train, X_test, y_train, y_test = train_test_split(X_smote, y_smote, test_size=0.2, random_state=42)"
   ]
  },
  {
   "cell_type": "code",
   "execution_count": null,
   "id": "21e541b9",
   "metadata": {},
   "outputs": [],
   "source": [
    "# Feature Scaling (Standardization)\n",
    "scaler = StandardScaler()\n",
    "X_train = scaler.fit_transform(X_train)\n",
    "X_test = scaler.transform(X_test)"
   ]
  },
  {
   "cell_type": "code",
   "execution_count": null,
   "id": "37758a4a",
   "metadata": {},
   "outputs": [],
   "source": [
    "# Train Decision Tree Classifier with max depth of 5\n",
    "dt_model = DecisionTreeClassifier(max_depth=5, random_state=42)\n",
    "dt_model.fit(X_train, y_train)\n",
    "\n",
    "# Predict using the trained Decision Tree model\n",
    "dt_pred = dt_model.predict(X_test)\n",
    "print(dt_pred)"
   ]
  },
  {
   "cell_type": "code",
   "execution_count": null,
   "id": "bfb8e186",
   "metadata": {},
   "outputs": [],
   "source": [
    "#  Step 8: Model Evaluation\n",
    "accuracy = accuracy_score(y_test, dt_pred)\n",
    "precision = precision_score(y_test, dt_pred, average='weighted')\n",
    "recall = recall_score(y_test, dt_pred, average='weighted')\n",
    "f1 = f1_score(y_test, dt_pred, average='weighted')\n",
    "\n",
    "print(f\" Accuracy: {accuracy:.2f}\")\n",
    "print(f\" Precision: {precision:.2f}\")\n",
    "print(f\" Recall: {recall:.2f}\")\n",
    "print(f\" F1 Score: {f1:.2f}\")"
   ]
  },
  {
   "cell_type": "code",
   "execution_count": null,
   "id": "a00a610b",
   "metadata": {},
   "outputs": [],
   "source": [
    "# Creates and trains a Random Forest classifier with 100 trees, max depth of 5, and fixed random state.  \n",
    "rf_model = RandomForestClassifier(n_estimators=100, max_depth=5, random_state=42)\n",
    "rf_model.fit(X_train, y_train)\n",
    "\n",
    "# Makes predictions on the test data (X_test) using the trained Random Forest model.  \n",
    "rf_pred = rf_model.predict(X_test)\n",
    "rf_pred\n",
    "\n",
    "# Computes evaluation metrics for the model: accuracy, precision, and recall using the test labels (y_test) and predictions (rf_pred).\n",
    "# Prints the results formatted to two decimal places. \n",
    "accuracy = accuracy_score(y_test, rf_pred)\n",
    "precision = precision_score(y_test, rf_pred, average='weighted')\n",
    "recall = recall_score(y_test, rf_pred, average='weighted')\n",
    "\n",
    "print(f\"Accuracy: {accuracy:.2f}\")\n",
    "print(f\"Precision: {precision:.2f}\")\n",
    "print(f\"Recall: {recall:.2f}\")\n",
    "\n",
    "# Classification Report\n",
    "print(\"\\nClassification Report:\")\n",
    "print(classification_report(y_test, rf_pred, target_names=label_encoder.classes_))\n",
    "\n",
    "# Confusion Matrix\n",
    "conf_matrix = confusion_matrix(y_test, rf_pred)\n",
    "print(\"\\nConfusion Matrix:\")\n",
    "print(conf_matrix)"
   ]
  },
  {
   "cell_type": "code",
   "execution_count": null,
   "id": "bf3f03e1",
   "metadata": {},
   "outputs": [],
   "source": [
    "# Creates an XGBoost classifier with 50 trees, max depth of 3, and a learning rate of 0.2 for optimized training.  \n",
    "# Trains the model on the training data (X_train, y_train) and makes predictions on the test data (X_test).  \n",
    "\n",
    "xgb_model = XGBClassifier(n_estimators=300, max_depth=7, learning_rate=0.5,subsample=0.8, random_state=42)\n",
    "xgb_model.fit(X_train, y_train)\n",
    "xgb_pred = xgb_model.predict(X_test)\n",
    "\n",
    "# Computes accuracy, precision, and recall for the XGBoost model using test labels (y_test) and predictions (xgb_pred).  \n",
    "# Prints the results formatted to two decimal places.  \n",
    "accuracy = accuracy_score(y_test, xgb_pred)\n",
    "precision = precision_score(y_test, xgb_pred, average='weighted')\n",
    "recall = recall_score(y_test, xgb_pred, average='weighted')\n",
    "print(f\"Accuracy: {accuracy:.2f}\")\n",
    "print(f\"Precision: {precision:.2f}\")\n",
    "print(f\"Recall: {recall:.2f}\")"
   ]
  },
  {
   "cell_type": "code",
   "execution_count": null,
   "id": "e299f70a",
   "metadata": {},
   "outputs": [],
   "source": [
    "# Save all encoders and model\n",
    "joblib.dump(enc_attraction, \"target_enc_attraction(class).pkl\")\n",
    "joblib.dump(enc_country, \"target_enc_country(class).pkl\")\n",
    "joblib.dump(ohe, \"onehot_encoder(class).pkl\")\n",
    "joblib.dump(label_encoder, \"label_encoder(class).pkl\")\n",
    "joblib.dump(xgb_model, \"xgboost_model(class).pkl\")"
   ]
  },
  {
   "cell_type": "code",
   "execution_count": null,
   "id": "305ffeb0",
   "metadata": {},
   "outputs": [],
   "source": [
    "# import joblib\n",
    "\n",
    "# # Saving model\n",
    "# joblib.dump(target_enc,'Target Encoder Model(class).pkl')\n",
    "# print(\"Target encoded model saved\")\n",
    "\n",
    "# joblib.dump(ohe,'One-Hot Endcoder Model(class).pkl')\n",
    "# print(\"One-Hot Encoded model saved\")\n",
    "\n",
    "# joblib.dump(label_encoder,'label_encoder(class).pkl')\n",
    "# print(\"Lable encoded has been saved\")\n",
    "\n",
    "# joblib.dump(xgb_model,'XGBoost model(class).pkl')\n",
    "# print(\"Best XGBoost Model has been saved\")"
   ]
  }
 ],
 "metadata": {
  "kernelspec": {
   "display_name": "base",
   "language": "python",
   "name": "python3"
  },
  "language_info": {
   "codemirror_mode": {
    "name": "ipython",
    "version": 3
   },
   "file_extension": ".py",
   "mimetype": "text/x-python",
   "name": "python",
   "nbconvert_exporter": "python",
   "pygments_lexer": "ipython3",
   "version": "3.12.7"
  }
 },
 "nbformat": 4,
 "nbformat_minor": 5
}
